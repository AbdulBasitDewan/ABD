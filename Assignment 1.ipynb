{
 "cells": [
  {
   "cell_type": "code",
   "execution_count": 1,
   "id": "57a06733",
   "metadata": {},
   "outputs": [
    {
     "name": "stdout",
     "output_type": "stream",
     "text": [
      "Hello World\n"
     ]
    }
   ],
   "source": [
    "print(\"Hello World\");\n",
    "\n",
    "\n"
   ]
  },
  {
   "cell_type": "code",
   "execution_count": 28,
   "id": "47552f6e",
   "metadata": {
    "scrolled": true
   },
   "outputs": [
    {
     "name": "stdout",
     "output_type": "stream",
     "text": [
      "Twinkle,twinle,little star                                                                                                     How I wonder what you are|                                                                                                                                   Up above the world so high                                                                                                                                   like a diamond in the sky                                                                                                        Twinkle,twinle,little star                                                                                                     How I wonder what you are|                                                                                                                                   \n"
     ]
    }
   ],
   "source": [
    "a= \"Twinkle,twinle,little star                                                                                                     \";\n",
    "b= \"How I wonder what you are|                                                                                                                                   \";\n",
    "c= \"Up above the world so high                                                                                                                                   \";         \n",
    "d= \"like a diamond in the sky                                                                                                        \"; \n",
    "e= a + b + c + d + a + b;\n",
    "print(e);"
   ]
  },
  {
   "cell_type": "code",
   "execution_count": 1,
   "id": "50a9f88b",
   "metadata": {},
   "outputs": [
    {
     "name": "stdout",
     "output_type": "stream",
     "text": [
      "Python 3.9.7\n"
     ]
    }
   ],
   "source": [
    "!python -V\n",
    "\n"
   ]
  },
  {
   "cell_type": "code",
   "execution_count": 2,
   "id": "39d21193",
   "metadata": {},
   "outputs": [
    {
     "name": "stdout",
     "output_type": "stream",
     "text": [
      "3.9.7\n"
     ]
    }
   ],
   "source": [
    "from platform import python_version\n",
    "print(python_version())"
   ]
  },
  {
   "cell_type": "code",
   "execution_count": 4,
   "id": "d9170beb",
   "metadata": {},
   "outputs": [
    {
     "name": "stdout",
     "output_type": "stream",
     "text": [
      "Current date and time : \n",
      "2022-01-04 00:19:05\n"
     ]
    }
   ],
   "source": [
    "import datetime\n",
    "now = datetime.datetime.now()\n",
    "print (\"Current date and time : \")\n",
    "print (now.strftime(\"%Y-%m-%d %H:%M:%S\"))\n",
    "       \n",
    "\n"
   ]
  },
  {
   "cell_type": "code",
   "execution_count": null,
   "id": "a4499c55",
   "metadata": {},
   "outputs": [],
   "source": [
    "r = float(input(\"Enter radius of circle: \"))\n",
    "a = 3.14159 * r * r\n",
    "print(\"Area of circle =\", a)\n"
   ]
  },
  {
   "cell_type": "code",
   "execution_count": null,
   "id": "21fa0af1",
   "metadata": {},
   "outputs": [],
   "source": [
    "First = input(\"Enter your first name:\"); \n",
    "Last = input(\"Enter your last name:\"); \n",
    "print(Last, First)"
   ]
  },
  {
   "cell_type": "code",
   "execution_count": 3,
   "id": "a514e506",
   "metadata": {},
   "outputs": [
    {
     "name": "stdout",
     "output_type": "stream",
     "text": [
      "Enter first number:5\n",
      "Enter second number:5\n",
      "10\n"
     ]
    }
   ],
   "source": [
    "input1 = int(input(\"Enter first number:\"));\n",
    "input2 = int(input(\"Enter second number:\")); \n",
    "sum = input1+input2;\n",
    "print(sum)\n",
    "\n"
   ]
  },
  {
   "cell_type": "code",
   "execution_count": null,
   "id": "6f813ffd",
   "metadata": {},
   "outputs": [],
   "source": []
  },
  {
   "cell_type": "code",
   "execution_count": null,
   "id": "d853e6d0",
   "metadata": {},
   "outputs": [],
   "source": []
  }
 ],
 "metadata": {
  "kernelspec": {
   "display_name": "Python 3 (ipykernel)",
   "language": "python",
   "name": "python3"
  },
  "language_info": {
   "codemirror_mode": {
    "name": "ipython",
    "version": 3
   },
   "file_extension": ".py",
   "mimetype": "text/x-python",
   "name": "python",
   "nbconvert_exporter": "python",
   "pygments_lexer": "ipython3",
   "version": "3.9.7"
  }
 },
 "nbformat": 4,
 "nbformat_minor": 5
}
